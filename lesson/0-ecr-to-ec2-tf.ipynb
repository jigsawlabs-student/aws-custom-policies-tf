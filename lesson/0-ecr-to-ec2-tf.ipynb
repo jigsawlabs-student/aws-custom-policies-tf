{
 "cells": [
  {
   "cell_type": "markdown",
   "id": "48387fed-ee05-4c04-bec9-f8795f2690ad",
   "metadata": {},
   "source": [
    "# Roles and Policies with ECR and Terraform"
   ]
  },
  {
   "cell_type": "markdown",
   "id": "ca6e8b3d-abb8-4125-a38d-0ac99bb3f7ee",
   "metadata": {},
   "source": [
    "### Introduction"
   ]
  },
  {
   "cell_type": "markdown",
   "id": "c933d31b-b6bc-4191-b0c8-f967c10f53bd",
   "metadata": {},
   "source": [
    "In the last lesson, we used terraform to explore roles and policies.  As we saw, we can think of an IAM role as a keycard that gives us the ability to act on resources.  And for the keycard to grant that access, we need to attach one or more policies to that role, that give various permissions to a resource (like pulling an image from an ECR repo).  And then we can attach the IAM role to a separate resource (like an EC2), to allow the resource to have those permissions."
   ]
  },
  {
   "cell_type": "markdown",
   "id": "96563099-11fa-48a1-bfe8-c038ef19c44c",
   "metadata": {},
   "source": [
    "We can see this in the diagram below.  It shows us creating an IAM role that (1) allows EC2 machines to assume that role, and (2) has a policy giving the role ECR access.  We then attached the IAM profile to an EC2 machine."
   ]
  },
  {
   "cell_type": "markdown",
   "id": "8e9f33b7-c025-4bc4-ac8e-ffb5f32dba7a",
   "metadata": {},
   "source": [
    "<img src=\"./ec2-ecr-permissions.png\" width=\"60%\">"
   ]
  },
  {
   "cell_type": "markdown",
   "id": "5a02e112-c8c7-4a95-908e-2e16ed08d2ae",
   "metadata": {},
   "source": [
    "### More Reviewing"
   ]
  },
  {
   "cell_type": "markdown",
   "id": "b9d4938a-1bc8-4bf2-a717-b9683624052a",
   "metadata": {},
   "source": [
    "In this reading, we'll use terraform to explore policies, roles and resources more deeply.  But before we do, let's start by reviewing the terraform file.  Take a look at the `tf/main.tf`  There, you can see code for creating the EC2 machine, and then further down creating: \n",
    "\n",
    "* The role and the Assume Role Policy (that allows EC2 machines to assume the role)\n",
    "* And the instance profile, which is a container for the role, that we'll directly attach the profile to the EC2 resource\n",
    "\n",
    "```bash\n",
    "resource \"aws_iam_role\" \"ec2_ecr_role\" {\n",
    "    name = \"ec2-ecr-role\"\n",
    "\n",
    "    assume_role_policy = jsonencode({\n",
    "    Version = \"2012-10-17\"\n",
    "    Statement = [\n",
    "      {\n",
    "      Action = \"sts:AssumeRole\"\n",
    "      Effect = \"Allow\"\n",
    "      Principal = {\n",
    "      Service = \"ec2.amazonaws.com\"\n",
    "      }\n",
    "      Sid = \"\"\n",
    "      },\n",
    "    ]\n",
    "  })\n",
    "}\n",
    "\n",
    "resource \"aws_iam_instance_profile\" \"ec2_profile\" {\n",
    " name = \"ec2-ecr-instance-profile\"\n",
    " role = aws_iam_role.ec2_ecr_role.name\n",
    "}\n",
    "\n",
    "resource \"aws_instance\" \"ec2_instance\" {\n",
    "  ami           = \"ami-0d7a109bf30624c99\"\n",
    "  instance_type = \"t2.micro\"\n",
    "  iam_instance_profile = aws_iam_instance_profile.ec2_iam_profile.name\n",
    "  ...\n",
    "```\n",
    "\n",
    "And then we attach a policy to that role.\n",
    "\n",
    "```python\n",
    "resource \"aws_iam_role_policy_attachment\" \"ecr_read_only\" {\n",
    " role = aws_iam_role.ec2_ecr_role.name\n",
    " policy_arn = \"arn:aws:iam::aws:policy/AmazonEC2ContainerRegistryReadOnly\"\n",
    "}\n",
    "```"
   ]
  },
  {
   "cell_type": "markdown",
   "id": "eaa85bc4-18ce-421b-b450-25059df60285",
   "metadata": {},
   "source": [
    "### Deeper with Policies"
   ]
  },
  {
   "cell_type": "markdown",
   "id": "e593b172-76d6-41d2-8a95-0fabeaa043bf",
   "metadata": {},
   "source": [
    "Ok, so in those last lines of terraform code, we give our `ec2_ecr_role` permisssions by attaching a pre-existing policy in AWS.  And remember that we can find that policy simply by pasting the arn string directly into the search box in AWS."
   ]
  },
  {
   "cell_type": "markdown",
   "id": "710cf7e8-e2b2-459c-977e-7518df6c6a3b",
   "metadata": {},
   "source": [
    "And there we'll see that the policy itself has the following statement:"
   ]
  },
  {
   "cell_type": "markdown",
   "id": "37ef0752-ac8e-4bb4-aee6-d99555c9499f",
   "metadata": {},
   "source": [
    "<img src=\"./json-doc.png\" width=\"60%\">"
   ]
  },
  {
   "cell_type": "markdown",
   "id": "bf8c3c39-c9a2-4b3c-a8b4-d5b182c4757d",
   "metadata": {},
   "source": [
    "You can see how the policy document works.  We specify the `Version` (that's the aws api verion), and a list of statements.  Here, we only have one statement, and it has an `Effect` of `Allow`, to then allow the below Actions.  The option would be to specify `Deny` to deny the ability to perform certain actions.  And then for resource, the `*` specifies allowing those permissions on any ECR image."
   ]
  },
  {
   "cell_type": "markdown",
   "id": "911cb6a4-0ad1-4637-8a7a-3c0371450ea4",
   "metadata": {},
   "source": [
    "#### Trying it out"
   ]
  },
  {
   "cell_type": "markdown",
   "id": "2fd443bb-d094-4d82-9266-bfc14360ed21",
   "metadata": {},
   "source": [
    "Ok, so now `cd` into the `web_app/tf` folder and then:\n",
    "\n",
    "* Update the `ec2_instance` `key_name` attribute to align with the keys for one your `.pem` files.\n",
    "* You may also need to update the `ami`.  We are using yum, so any ami that is a aws linux, or redhat ami should work.\n",
    "\n",
    "Then run the following.\n",
    "\n",
    "```bash\n",
    "terraform init\n",
    "terraform apply\n",
    "```"
   ]
  },
  {
   "cell_type": "markdown",
   "id": "65e2b394-e2d1-4482-a6b8-83982f36c0a2",
   "metadata": {},
   "source": [
    "If you look at the output, you'll see an output indicating how to ssh into the machine.  The you can confirm that you can access ECR.\n",
    "    \n",
    "```bash\n",
    "    aws ecr describe-repositories\n",
    "```\n",
    "\n",
    "And if you want to try pulling down an image, you can do so by copying the root url from one of the `repositoryUri's` (just the content before the slash), and replace it with what we have listed after `--password-stdin`, also make sure that the `--region` matches your region:\n",
    "\n",
    "```bash\n",
    "aws ecr get-login-password --region us-east-1 | sudo docker login --username AWS --password-stdin 086729879076.dkr.ecr.us-east-1.amazonaws.com\n",
    "```\n",
    "\n",
    "And then, now that you are logged in, use the full repository uri to run the following.\n",
    "```\n",
    "sudo docker pull 086729879076.dkr.ecr.us-east-1.amazonaws.com/flask_app:latest\n",
    "```"
   ]
  },
  {
   "cell_type": "markdown",
   "id": "aff2e0ae-956c-42e1-815e-84f53c22171d",
   "metadata": {},
   "source": [
    "* Creating our own policy"
   ]
  },
  {
   "cell_type": "markdown",
   "id": "74122ca9-0ff5-4480-8680-e2f846e4bf5d",
   "metadata": {},
   "source": [
    "Ok, so above we are using a pre-existing IAM policy, the `arn:aws:iam::aws:policy/AmazonEC2ContainerRegistryReadOnly` policy defined by AWS.  But we can also create our own policy.\n",
    "\n",
    "You'll see at the bottom of the `web_app/tf/main.tf` file, we have defined the following."
   ]
  },
  {
   "cell_type": "markdown",
   "id": "e7734dd0-d23b-43d1-97b3-b121687d885d",
   "metadata": {},
   "source": [
    "```bash\n",
    "resource \"aws_iam_policy\" \"ecr_custom_read_only\" {\n",
    "  name        = \"ecr_custom_read_only\"\n",
    "  description = \"Policy that allows ECR pull images\"\n",
    "\n",
    "  policy = jsonencode({\n",
    "    Version = \"2012-10-17\"\n",
    "    Statement = [\n",
    "      {\n",
    "        Action   = [\"ecr:GetAuthorizationToken\",\n",
    "        \"ecr:BatchGetImage\",\n",
    "         \"ecr:BatchCheckLayerAvailability\", \n",
    "         \"ecr:GetDownloadUrlForLayer\"]\n",
    "        Effect   = \"Allow\"\n",
    "        Resource = \"*\"\n",
    "      },\n",
    "    ]\n",
    "  })\n",
    "}\n",
    "```"
   ]
  },
  {
   "cell_type": "markdown",
   "id": "cfdf39e7-4bb6-453b-8427-a68842bf214c",
   "metadata": {},
   "source": [
    "So above, we are creating an ECR policy, and that policy only for the actions that allows for downloading an image from ECR, but nothing else.  For example, notice that we cannot list or describe the ECR images with the above.  \n",
    "\n",
    "Let's make it even more restrictive than then one above.  Instead of `Resource = \"*\"`, choose `Resource = [\"arn\"]`, and instead of \"arn\" input the arn of one of your ecr images.\n",
    "\n",
    "Next, let's remove the policy attachmment or `ecr_read_only` (just comment it out), and create a new policy attachment of the following:\n",
    "\n",
    "```bash\n",
    "# resource \"aws_iam_role_policy_attachment\" \"ecr_read_only\" {\n",
    "#  role = aws_iam_role.ec2_ecr_role.name\n",
    "#  policy_arn = \"arn:aws:iam::aws:policy/AmazonEC2ContainerRegistryReadOnly\"\n",
    "# }\n",
    "\n",
    "resource \"aws_iam_role_policy_attachment\" \"example_attach\" {\n",
    "  role       = aws_iam_role.ec2_ecr_role.name\n",
    "  policy_arn = aws_iam_policy.ecr_custom_read_only.arn\n",
    "}\n",
    "```"
   ]
  },
  {
   "cell_type": "markdown",
   "id": "09b80542-b0c7-4c1c-bf89-a1e2f0180a3e",
   "metadata": {},
   "source": [
    "* So notice that above, we define the attachment using the exact same fields as before -- the role we want to attach the policy to, and the policy arn.  And we get that policy arn by just calling `.arn`."
   ]
  },
  {
   "cell_type": "markdown",
   "id": "aaa71dc6-a55f-4c63-990d-346e058d0486",
   "metadata": {},
   "source": [
    "Then apply the changes:"
   ]
  },
  {
   "cell_type": "markdown",
   "id": "4929762a-66e1-4187-b34b-a7eb392d462e",
   "metadata": {},
   "source": [
    "```bash\n",
    "terraform apply\n",
    "```"
   ]
  },
  {
   "cell_type": "markdown",
   "id": "73267f6e-0e80-48ee-8104-8837a94fe801",
   "metadata": {},
   "source": [
    "And ssh into your ec2 machine, and check the following:"
   ]
  },
  {
   "cell_type": "markdown",
   "id": "f23c4da5-4cbd-4d86-8911-6bd4578d145a",
   "metadata": {},
   "source": [
    "1. Confirm that you can no longer describe the ecr repositories\n",
    "    * `aws ecr describe-repositories`"
   ]
  },
  {
   "cell_type": "markdown",
   "id": "30286925-8309-46b8-84d8-8a6b6118143c",
   "metadata": {},
   "source": [
    "<img src=\"./access-denied.png\" width=\"60%\">"
   ]
  },
  {
   "cell_type": "markdown",
   "id": "9f9ff305-886f-40a6-9d37-74df010b11c9",
   "metadata": {},
   "source": [
    "2. Confirm that **you can** pull down the image that you granted permission for\n",
    "    * But **cannot** pull down any others\n",
    "    * To do so, replace `your-region` with your region, and also place in the information for your account after `--password-stdin`."
   ]
  },
  {
   "cell_type": "markdown",
   "id": "c414fe25-aac8-4b67-aa51-e62a43a4e0e6",
   "metadata": {
    "tags": []
   },
   "source": [
    "```bash\n",
    "aws ecr get-login-password --region your-region | sudo docker login --username AWS --password-stdin your-aws-account-id.dkr.ecr.your-region.amazonaws.com\n",
    "\n",
    "sudo docker pull 086729879076.dkr.ecr.us-east-1.amazonaws.com/flask_app:latest\n",
    "```"
   ]
  },
  {
   "cell_type": "markdown",
   "id": "f89b7cbc-ee9a-435b-8322-756a212c1ba2",
   "metadata": {},
   "source": [
    "* A quick review"
   ]
  },
  {
   "cell_type": "markdown",
   "id": "de7a8be8-4736-416d-8277-e851e7c4df01",
   "metadata": {},
   "source": [
    "Ok, so just to review we saw that we attach a role to a resource (like an EC2 machine), and to a role, we attach one or more policies.  And each one of those policies has one or more *actions* which are typically permissions that specify what actions we can perform on that resource."
   ]
  },
  {
   "cell_type": "markdown",
   "id": "3c153c7a-c8ee-41ca-ac56-ac7337f767fb",
   "metadata": {},
   "source": [
    "### Adding Resource Permissions"
   ]
  },
  {
   "cell_type": "markdown",
   "id": "3e400875-9880-4b2d-836f-894395e3f16b",
   "metadata": {},
   "source": [
    "Now so far we have seen two types of policies.\n",
    "\n",
    "* We have primarily worked with one type of policy, **identity** policies, which attach to our IAM role.  We have seen that the identity policy is used to attach permissions to a role, and that the role acts like a keycard we can give to resources.\n",
    "\n",
    "* We also saw the **assume role policy**, which allows our ec2 machine to machine to assume the role (ie hold onto the keycard).  \n",
    "\n",
    "```bash\n",
    "resource \"aws_iam_role\" \"ec2_ecr_role\" {\n",
    "    name = \"ec2-ecr-allow\"\n",
    "\n",
    "    assume_role_policy = jsonencode({\n",
    "    Version = \"2012-10-17\"\n",
    "    Statement = [\n",
    "      {\n",
    "      Action = \"sts:AssumeRole\"\n",
    "      Effect = \"Allow\"\n",
    "      Principal = {\n",
    "      Service = \"ec2.amazonaws.com\"\n",
    "      }\n",
    "      ...\n",
    "```"
   ]
  },
  {
   "cell_type": "markdown",
   "id": "082652fa-b397-45b5-bfc2-f54389e062bf",
   "metadata": {},
   "source": [
    "Now the last policy to learn about is a **resource policy**."
   ]
  },
  {
   "cell_type": "markdown",
   "id": "4ccca85f-c1c7-4bca-ba9a-b10b98046a3b",
   "metadata": {},
   "source": [
    "A resource policy operates slightly differently than an identity policy.  If an IAM policy  acts like a keycard, granting access to whoever holds the keycard, then a resource policy is like a bouncer, standing in front of our ECR (or another) resource, saying who can enter.\n",
    "\n",
    "So the resource policy is attached directly to the resource, instead of being attached to the role."
   ]
  },
  {
   "cell_type": "markdown",
   "id": "801fdcab-6e3d-4dcb-b6ec-ab51202a0f74",
   "metadata": {},
   "source": [
    "We can see this by looking at the `aws_ecr_repository_policy` defined in the `tf-resource/resource_ec2.tf` file.  There we'll see the following:"
   ]
  },
  {
   "cell_type": "markdown",
   "id": "46244919-6af0-46d4-89e3-12a5a33440e4",
   "metadata": {},
   "source": [
    "```bash\n",
    "resource \"aws_ecr_repository_policy\" \"ec2_access\" {\n",
    "  repository = \"app-repo\"\n",
    "\n",
    "  policy = jsonencode({\n",
    "    Version = \"2012-10-17\",\n",
    "    Statement = [\n",
    "      {\n",
    "        Sid    = \"AllowEC2RoleAccess\",\n",
    "        Effect = \"Allow\",\n",
    "        Principal = {\n",
    "          AWS = aws_iam_role.ec2_resource_access_role.arn\n",
    "        },\n",
    "        Action = [\n",
    "          \"ecr:GetDownloadUrlForLayer\",\n",
    "          \"ecr:BatchGetImage\",\n",
    "          \"ecr:BatchCheckLayerAvailability\"\n",
    "        ]\n",
    "      }\n",
    "    ]\n",
    "  })\n",
    "}\n",
    "```"
   ]
  },
  {
   "cell_type": "markdown",
   "id": "dba6ee15-4801-4ea1-ab1b-3c993113c9ff",
   "metadata": {},
   "source": [
    "Look at the second line of the statement above:\n",
    "    \n",
    "```bash\n",
    "repository = \"app-repo\"\n",
    "```\n",
    "\n",
    "    \n",
    "So you can see that the resource policy attaches directly to the repository named `app-repo` -- it does not attach to an IAM role."
   ]
  },
  {
   "cell_type": "markdown",
   "id": "0639e2e8-705f-463b-b92a-87070239f1aa",
   "metadata": {},
   "source": [
    "### Applying our changes"
   ]
  },
  {
   "cell_type": "markdown",
   "id": "c63d0015-df02-4384-a58f-ed8d8d756679",
   "metadata": {},
   "source": [
    "So now navigate to the `tf-resource` folder, and the `resource_ec2.tf` file.  There you'll see we have defined an iam_role up top, followed by an instance profile that we'll attach to an ec2 machine, and then comes the `ecr_repository_policy`.  Update the `repository=app-repo`, to match one of your repositories.  \n",
    "\n",
    "You can find it by navigating to `Amazon ECR > Private Registry > Repositiories`."
   ]
  },
  {
   "cell_type": "markdown",
   "id": "4ac36a0f-8d62-42e5-b1ff-45e641ceb320",
   "metadata": {},
   "source": [
    "<img src=\"./existing-repos.png\" width=\"60%\">"
   ]
  },
  {
   "cell_type": "markdown",
   "id": "03d71db6-5e59-45ff-b164-24ef6ed5dcd3",
   "metadata": {},
   "source": [
    "So we'll specify that we want to give access to this repository, and then later down we specify the principal indicating who gets access to this repository.\n",
    "```bash\n",
    "Principal = {\n",
    "          AWS = aws_iam_role.ec2_resource_access_role.arn\n",
    "        }\n",
    "```"
   ]
  },
  {
   "cell_type": "markdown",
   "id": "ea8182ce-4a41-43a6-aefc-f8cca753a0da",
   "metadata": {},
   "source": [
    "> So again, you can think of this being like a bouncer who now has certain resources on it's list it will allow in. "
   ]
  },
  {
   "cell_type": "markdown",
   "id": "8f39e506-c5db-42c8-be4b-7bc456984343",
   "metadata": {},
   "source": [
    "And then later on you can see that we attached that role above to an EC2 instance."
   ]
  },
  {
   "cell_type": "markdown",
   "id": "93138e20-d5a9-452f-8021-bba31acd4a7c",
   "metadata": {},
   "source": [
    "```bash\n",
    "resource \"aws_instance\" \"ec2_resource\" {\n",
    "  ami           = \"ami-0d7a109bf30624c99\"\n",
    "  instance_type = \"t2.micro\"\n",
    "  iam_instance_profile = aws_iam_instance_profile.ec2_resource_profile.name\n",
    "```"
   ]
  },
  {
   "cell_type": "markdown",
   "id": "16b0904c-926e-4c95-8db1-d925a27be6f1",
   "metadata": {},
   "source": [
    "For the `aws_instance`, you'll need to update the `key_name` property, and potentially the `iam` property."
   ]
  },
  {
   "cell_type": "markdown",
   "id": "7ab903ef-007e-4d8a-9d03-a3bb0228c46a",
   "metadata": {},
   "source": [
    "Ok, so with those changes let's apply this code."
   ]
  },
  {
   "cell_type": "markdown",
   "id": "31301491-ca88-4511-9533-afee210d5e74",
   "metadata": {},
   "source": [
    "```bash\n",
    "terraform init\n",
    "terraform apply\n",
    "```"
   ]
  },
  {
   "cell_type": "markdown",
   "id": "cc6ddfc7-fd85-45a9-b6dd-20c05a7ba886",
   "metadata": {},
   "source": [
    "1. Checking the resource ec2\n",
    "\n",
    "So, now if you look at what we outputted to the terminal, you should see the instructions to ssh into the ec2 resource.\n",
    "\n",
    "So confirm that you can list the images with the following."
   ]
  },
  {
   "cell_type": "markdown",
   "id": "bdf27797-7d59-4c35-97c3-23a8c50558d8",
   "metadata": {},
   "source": [
    "> * `aws ecr list-images --repository-name=app-repo`"
   ]
  },
  {
   "cell_type": "markdown",
   "id": "e4e22ef2-f374-4525-a670-5a254a1d7381",
   "metadata": {},
   "source": [
    "But if we try the following:"
   ]
  },
  {
   "cell_type": "markdown",
   "id": "72c1d5a2-ecc2-4b25-abb3-865be4cc4855",
   "metadata": {},
   "source": [
    "> ```bash\n",
    "aws ecr get-login-password --region us-east-1 | sudo docker login --username AWS --password-stdin 086729879076.dkr.ecr.us-east-1.amazonaws.com\n",
    "```"
   ]
  },
  {
   "cell_type": "markdown",
   "id": "f0bd278f-94d7-42ab-afc0-4e4df0e341f1",
   "metadata": {},
   "source": [
    "You may get an error.  Unfortunately, AWS does not allow granting `ecr:GetAuthorizationToken` from a resource policy.  We'll have to use an IAM policy to get the authorization token.\n",
    "\n",
    "> You don't have to memorize this -- it's just to point out some of the fun things that can go wrong."
   ]
  },
  {
   "cell_type": "markdown",
   "id": "2932ac9a-019a-46f0-b7a1-21666fdf95a7",
   "metadata": {},
   "source": [
    "Ok, so remember, so far we grant this permissions directly on the resource -- as opposed to the IAM.  \n",
    "\n",
    "You can see this, by going to the relevant repository (for me, it's `app-repo`), and then clicking on `Repo-Name > Permissions`."
   ]
  },
  {
   "cell_type": "markdown",
   "id": "d944598a-f053-43f0-b047-d5dffd95622a",
   "metadata": {},
   "source": [
    "<img src=\"./app-repo-permissions.png\" width=\"60%\">"
   ]
  },
  {
   "cell_type": "markdown",
   "id": "895328a8-fe34-4d7d-8585-fce9b5430d2e",
   "metadata": {},
   "source": [
    "So above, you can see that the resource gives allow access to those with `ec2-access-role` various actions, like Describe Repository."
   ]
  },
  {
   "cell_type": "markdown",
   "id": "e066a841-faf6-41bf-a966-b1b9c6210579",
   "metadata": {},
   "source": [
    "2. Adding an Identity Policy"
   ]
  },
  {
   "cell_type": "markdown",
   "id": "a2090dea-87bf-4f70-a420-1fae797e9f87",
   "metadata": {},
   "source": [
    "So what if we add on another machine that does not have access through the resource policy, but through our good old identity policy.  How does a resource policy interact with that?"
   ]
  },
  {
   "cell_type": "markdown",
   "id": "b7c6c3bd-b42d-4fdd-bbe5-e295defe5c96",
   "metadata": {},
   "source": [
    "So go to the `tf-resource/iam_ec2.tf` file.  You'll see that part of it is commented out, so make sure the entire file is uncommented.\n",
    "\n",
    "Then in the ec2 instance, update the `key_name` attribute and potentially the `iam` value.  Then run the following:\n",
    "\n",
    "```bash\n",
    "terraform apply\n",
    "```"
   ]
  },
  {
   "cell_type": "markdown",
   "id": "9f1c1e63-f587-45ef-8ee8-57c4b951eb5e",
   "metadata": {},
   "source": [
    "And ssh into the ec2 machine."
   ]
  },
  {
   "cell_type": "markdown",
   "id": "bf5a994a-a562-4b3f-9e22-7be808a46041",
   "metadata": {},
   "source": [
    "Ok, so the iam policy defined for the ec2 that we just created grants a generic `AmazonEC2ContainerRegistryReadOnly` policy.  Now that we have a resource policy on our repository, does the identity policy still work?"
   ]
  },
  {
   "cell_type": "markdown",
   "id": "0fa11c0a-4863-4b85-8547-c52cb44fe5f5",
   "metadata": {},
   "source": [
    "So you'll see instructions how to ssh into this machine:\n",
    "\n",
    "```\n",
    "ssh with into ec2_iam with the following\n",
    "```"
   ]
  },
  {
   "cell_type": "markdown",
   "id": "1d89c2c1-0878-49cc-931f-a574d3fc2257",
   "metadata": {},
   "source": [
    "So ssh into the machine, and then try to access the repository."
   ]
  },
  {
   "cell_type": "markdown",
   "id": "3fb385d8-330b-48d8-aacd-c40565dd5490",
   "metadata": {},
   "source": [
    "```bash\n",
    "aws ecr get-login-password --region us-east-1 | sudo docker login --username AWS --password-stdin 086729879076.dkr.ecr.us-east-1.amazonaws.com\n",
    "\n",
    "sudo docker pull 086729879076.dkr.ecr.us-east-1.amazonaws.com/flask_app:latest\n",
    "```\n",
    "\n",
    "This works.\n",
    "\n",
    "```bash\n",
    "aws ecr list-images --repository-name=app-repo\n",
    "```\n",
    "\n",
    "This also works.\n"
   ]
  },
  {
   "cell_type": "markdown",
   "id": "54f68c4f-332a-4b9d-931c-6b270ea60b81",
   "metadata": {},
   "source": [
    "OK, so we just learned that, even though we have granted permissions to a role through the resource policy, we can also grant permissions to another role through the identity policy.  "
   ]
  },
  {
   "cell_type": "markdown",
   "id": "1c192a66-6074-4923-a629-9311b5c36134",
   "metadata": {},
   "source": [
    "* Clean up \n",
    "\n",
    "Run `terraform destroy` to remove your resources."
   ]
  },
  {
   "cell_type": "markdown",
   "id": "732deed7-ebde-494d-b892-ffcab171b149",
   "metadata": {},
   "source": [
    "### Summary"
   ]
  },
  {
   "cell_type": "markdown",
   "id": "edb8022c-639e-4611-88db-7337c1652833",
   "metadata": {},
   "source": [
    "Ok, so in this lesson, we reviewed identity policies.  And then defined our own identity policy."
   ]
  },
  {
   "cell_type": "markdown",
   "id": "45dad867-1b17-4b57-bce8-7c80e5c5080c",
   "metadata": {},
   "source": [
    "```bash\n",
    "resource \"aws_iam_policy\" \"ecr_custom_read_only\" {\n",
    "  name        = \"ecr_custom_read_only\"\n",
    "  description = \"Policy that allows ECR pull images\"\n",
    "\n",
    "  policy = jsonencode({\n",
    "    Version = \"2012-10-17\"\n",
    "    Statement = [\n",
    "      {\n",
    "        Action   = [\"ecr:GetAuthorizationToken\",\n",
    "        \"ecr:BatchGetImage\",\n",
    "         \"ecr:BatchCheckLayerAvailability\", \n",
    "         \"ecr:GetDownloadUrlForLayer\"]\n",
    "        Effect   = \"Allow\"\n",
    "        Resource = \"*\"\n",
    "      },\n",
    "    ]\n",
    "  })\n",
    "}\n",
    "```\n",
    "\n",
    "We also saw that, if we attach an identity policy to a role, that with a resource policy, we can attach it directly to a resource."
   ]
  },
  {
   "cell_type": "markdown",
   "id": "6d62a5f8-ec68-4d7f-b184-987227f7878c",
   "metadata": {
    "tags": []
   },
   "source": [
    "```bash\n",
    "resource \"aws_ecr_repository_policy\" \"ec2_access\" {\n",
    "  repository = \"app-repo\"\n",
    "\n",
    "  policy = jsonencode({\n",
    "    Version = \"2012-10-17\",\n",
    "    Statement = [\n",
    "      {\n",
    "        Sid    = \"AllowEC2RoleAccess\",\n",
    "        Effect = \"Allow\",\n",
    "        Principal = {\n",
    "          AWS = aws_iam_role.ec2_resource_access_role.arn\n",
    "        },\n",
    "        Action = [\n",
    "          \"ecr:GetDownloadUrlForLayer\",\n",
    "          \"ecr:BatchGetImage\",\n",
    "          \"ecr:BatchCheckLayerAvailability\"\n",
    "        ]\n",
    "      }\n",
    "    ]\n",
    "  })\n",
    "}\n",
    "```"
   ]
  },
  {
   "cell_type": "markdown",
   "id": "287fecd2-6e91-4d21-bbfa-40f8bdba696a",
   "metadata": {},
   "source": [
    "So above, the resource is granting permissions to the specified role to perform the above actions on the resource.  And we can see this by navigating to the resource, and clicking on permissions."
   ]
  },
  {
   "cell_type": "markdown",
   "id": "44cc9d21-9a6b-4582-a826-9f8a03e90d6d",
   "metadata": {},
   "source": [
    "<img src=\"./app-repo-permissions.png\" width=\"60%\">"
   ]
  },
  {
   "cell_type": "markdown",
   "id": "0851fe9e-7b36-49de-accc-c3788ca70b3d",
   "metadata": {},
   "source": [
    "Finally, we saw granting allow access to a role through a resource policy, does not remove our access through an identity policy."
   ]
  },
  {
   "cell_type": "markdown",
   "id": "f6b2923f-d8f7-47ec-96d3-5a2d411b4792",
   "metadata": {},
   "source": [
    "### Resources\n",
    "\n",
    "[Repo Policy Examples](https://docs.aws.amazon.com/AmazonECR/latest/userguide/repository-policy-examples.html)"
   ]
  }
 ],
 "metadata": {
  "kernelspec": {
   "display_name": "Python 3 (ipykernel)",
   "language": "python",
   "name": "python3"
  },
  "language_info": {
   "codemirror_mode": {
    "name": "ipython",
    "version": 3
   },
   "file_extension": ".py",
   "mimetype": "text/x-python",
   "name": "python",
   "nbconvert_exporter": "python",
   "pygments_lexer": "ipython3",
   "version": "3.10.13"
  }
 },
 "nbformat": 4,
 "nbformat_minor": 5
}
